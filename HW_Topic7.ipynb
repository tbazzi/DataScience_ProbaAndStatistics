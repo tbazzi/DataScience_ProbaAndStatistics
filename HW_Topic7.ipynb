{
 "cells": [
  {
   "cell_type": "markdown",
   "metadata": {},
   "source": [
    "# The median of independent repeated  sampling"
   ]
  },
  {
   "cell_type": "code",
   "execution_count": 1,
   "metadata": {},
   "outputs": [
    {
     "name": "stdout",
     "output_type": "stream",
     "text": [
      "Populating the interactive namespace from numpy and matplotlib\n"
     ]
    }
   ],
   "source": [
    "%pylab inline"
   ]
  },
  {
   "cell_type": "markdown",
   "metadata": {},
   "source": [
    "## The median of a distribution"
   ]
  },
  {
   "cell_type": "markdown",
   "metadata": {},
   "source": [
    "The median of a distribution $P$ is the value $m$ such that if $X\\sim P$, then $P(X\\le m)\\ge\\frac12$ and  $P(X\\ge m)\\ge\\frac12$. If multiple values satisfy this condition, the median is their average.\n",
    "\n",
    "For example, for the biased die with distribution given by\n",
    "<table>\n",
    "<tr><th>x</th><td>1</td><td>2</td><td>3</td><td>4</td><td>5</td><td>6</td></tr>\n",
    "<tr><th>$P_X$(x)</th><td>0.1</td><td>0.2</td><td>0.1</td><td>0.3</td><td>0.1</td><td>0.2</td></tr>\n",
    "</table>\n",
    "Since $P(X\\le 4)=0.7\\ge 0.5$ and $P(X\\ge 4)=0.6\\ge 0.5$, $m=4$.\n",
    "\n",
    "If the distribution was,\n",
    "<table>\n",
    "<tr><th>x</th><td>1</td><td>2</td><td>3</td><td>4</td><td>5</td><td>6</td></tr>\n",
    "<tr><th>$P_X$(x)</th><td>0.1</td><td>0.2</td><td>0.2</td><td>0.2</td><td>0.1</td><td>0.2</td></tr>\n",
    "</table>\n",
    "then both 3 and 4 satisfy the two conditions, and the median is 3.5. \n",
    "\n",
    "While writing the following functions, note that the distribution $P=[x_1,\\ldots x_k]$ represents $P_X(1)=x_1,\\ldots,P_X(k)=x_k$."
   ]
  },
  {
   "cell_type": "markdown",
   "metadata": {},
   "source": [
    "### Exercise 1"
   ]
  },
  {
   "cell_type": "markdown",
   "metadata": {},
   "source": [
    "Write a function <code><font color=\"blue\">median_cal</font>(P)</code> that returns the median given a distribution <code>P</code>.\n",
    "\n",
    "<font color=\"blue\">* **Sample run** *</font>\n",
    "```python\n",
    "print(median_cal([0.1 0.2 0.1 0.3 0.1 0.2]))\n",
    "print(median_cal([0.99 0.01])\n",
    "```\n",
    "<font color=\"magenta\">* **Expected Output** *</font>\n",
    "```python\n",
    "4\n",
    "1\n",
    "```"
   ]
  },
  {
   "cell_type": "code",
   "execution_count": 42,
   "metadata": {},
   "outputs": [
    {
     "data": {
      "text/plain": [
       "5.0"
      ]
     },
     "execution_count": 42,
     "metadata": {},
     "output_type": "execute_result"
    }
   ],
   "source": [
    "def median_cal(P):\n",
    "    l = list(range(1,len(P)+1))\n",
    "    p = np.array([l, P])\n",
    "    i = 1\n",
    "    x = 0.\n",
    "    med = 0.\n",
    "    \n",
    "    for j in range(p.shape[1]):\n",
    "            x += p[i, j]\n",
    "            if x >=0.5: \n",
    "                if med == 0.: \n",
    "                    med = p[0, j]\n",
    "                    x = 0.\n",
    "                else: \n",
    "                    med = med+0.5\n",
    "                    return med\n",
    "    \n",
    "\n",
    "\n",
    "    return med\n",
    "    \n",
    "            \n",
    "\n",
    "median_cal([0.12,0.04,0.12,0.12,0.2,0.16,0.16,0.08])\n",
    "        "
   ]
  },
  {
   "cell_type": "code",
   "execution_count": 32,
   "metadata": {},
   "outputs": [],
   "source": [
    "#Check Function\n",
    "\n",
    "assert median_cal([0.99,0.1])==1\n",
    "assert median_cal([0.1,0.2,0.1,0.3,0.1,0.2])==4\n"
   ]
  },
  {
   "cell_type": "markdown",
   "metadata": {},
   "source": [
    "## Median of a sample "
   ]
  },
  {
   "cell_type": "markdown",
   "metadata": {},
   "source": [
    "If the distribution is given, as above, the median can be determined easily. In this problem we will learn how to approximate the median when the distribution is not given, but we are given samples that it generates. \n",
    "\n",
    "Similar to distributions, we can define the median of a set to be the set element $m'$ such that at least half the elements in the set are $\\le m'$ and at least half the numbers in the collection are $\\ge m'$. If two set elements satisfy this condition, then the median is their average. For example, the median of [3,2,5,5,2,4,1,5,4,4] is $4$ and the median of [2,1,5,3,3,5,4,2,4,5] is $3.5$.\n",
    "\n",
    "To find the median of a $P$ distribution via access only to samples\n",
    "it generates, we obtain $n$ samples from $P$, caluclate their median \n",
    "$M_n$, and then repeat the process many times and determine the average\n",
    "of all the medians. "
   ]
  },
  {
   "cell_type": "markdown",
   "metadata": {},
   "source": [
    "### Exercise 2"
   ]
  },
  {
   "cell_type": "markdown",
   "metadata": {},
   "source": [
    "Write a function <code><font color=\"blue\">sample_median</font>(n,P)</code> that generates <code>n</code> random values using distribution <code>P</code> and returns the median of the collected sample.\n",
    "\n",
    "Hint: Use function <b>random.choice()</b> to sample data from <code>P</code> and <b>median()</b> to find the median of the samples\n",
    "\n",
    "<font color=\"blue\">* **Sample run** *</font>\n",
    "```python\n",
    "print(sample_median(10,[0.1 0.2 0.1 0.3 0.1 0.2])) \n",
    "print(sample_median(10,[0.1 0.2 0.1 0.3 0.1 0.2]))\n",
    "print(sample_median(5,P=[0.3,0.7])\n",
    "print(sample_median(5,P=[0.3,0.7])\n",
    "```\n",
    "<font color=\"magenta\">* **Expected Output** *</font>\n",
    "```python\n",
    "4.5\n",
    "4.0\n",
    "2.0\n",
    "1.0\n",
    "```\n",
    "\n"
   ]
  },
  {
   "cell_type": "code",
   "execution_count": 54,
   "metadata": {},
   "outputs": [
    {
     "data": {
      "text/plain": [
       "16.8"
      ]
     },
     "execution_count": 54,
     "metadata": {},
     "output_type": "execute_result"
    }
   ],
   "source": [
    "import numpy as np\n",
    "def sample_median(n,P):\n",
    "    x = np.random.randint(1,20, size=len(P))\n",
    "    m=0.\n",
    "    P2 = list()\n",
    "    for num in range(n):\n",
    "        P2.append(np.median(np.random.choice(x,n, True, P)))\n",
    "    \n",
    "    return np.average(P2)\n",
    "    #return np.median(np.random.choice(x,n, True, P))\n",
    "        \n",
    "#sample_median(10,[0.1,0.2,0.3,0.2,0.2])\n",
    "sample_median(10, [0.12,0.04,0.12,0.12,0.2,0.16,0.16,0.08])\n",
    "        "
   ]
  },
  {
   "cell_type": "code",
   "execution_count": 35,
   "metadata": {},
   "outputs": [
    {
     "ename": "AssertionError",
     "evalue": "",
     "output_type": "error",
     "traceback": [
      "\u001b[1;31m---------------------------------------------------------------------------\u001b[0m",
      "\u001b[1;31mAssertionError\u001b[0m                            Traceback (most recent call last)",
      "\u001b[1;32m<ipython-input-35-f7d62d6439ff>\u001b[0m in \u001b[0;36m<module>\u001b[1;34m\u001b[0m\n\u001b[0;32m      1\u001b[0m \u001b[1;31m#Check Function\u001b[0m\u001b[1;33m\u001b[0m\u001b[1;33m\u001b[0m\u001b[1;33m\u001b[0m\u001b[0m\n\u001b[0;32m      2\u001b[0m \u001b[1;33m\u001b[0m\u001b[0m\n\u001b[1;32m----> 3\u001b[1;33m \u001b[1;32massert\u001b[0m \u001b[0mabs\u001b[0m\u001b[1;33m(\u001b[0m\u001b[0msample_median\u001b[0m\u001b[1;33m(\u001b[0m\u001b[1;36m10\u001b[0m\u001b[1;33m,\u001b[0m\u001b[1;33m[\u001b[0m\u001b[1;36m0.1\u001b[0m\u001b[1;33m,\u001b[0m\u001b[1;36m0.2\u001b[0m\u001b[1;33m,\u001b[0m\u001b[1;36m0.3\u001b[0m\u001b[1;33m,\u001b[0m\u001b[1;36m0.2\u001b[0m\u001b[1;33m,\u001b[0m\u001b[1;36m0.2\u001b[0m\u001b[1;33m]\u001b[0m\u001b[1;33m)\u001b[0m\u001b[1;33m-\u001b[0m\u001b[1;36m3\u001b[0m\u001b[1;33m)\u001b[0m\u001b[1;33m<=\u001b[0m\u001b[1;36m1\u001b[0m\u001b[1;33m\u001b[0m\u001b[1;33m\u001b[0m\u001b[0m\n\u001b[0m\u001b[0;32m      4\u001b[0m \u001b[1;32massert\u001b[0m \u001b[0mabs\u001b[0m\u001b[1;33m(\u001b[0m\u001b[0msample_median\u001b[0m\u001b[1;33m(\u001b[0m\u001b[1;36m25\u001b[0m\u001b[1;33m,\u001b[0m\u001b[1;33m[\u001b[0m\u001b[1;36m0.2\u001b[0m\u001b[1;33m,\u001b[0m\u001b[1;36m0.1\u001b[0m\u001b[1;33m,\u001b[0m\u001b[1;36m0.2\u001b[0m\u001b[1;33m,\u001b[0m\u001b[1;36m0.3\u001b[0m\u001b[1;33m,\u001b[0m\u001b[1;36m0.1\u001b[0m\u001b[1;33m,\u001b[0m\u001b[1;36m0.1\u001b[0m\u001b[1;33m]\u001b[0m\u001b[1;33m)\u001b[0m\u001b[1;33m-\u001b[0m\u001b[1;36m3\u001b[0m\u001b[1;33m)\u001b[0m\u001b[1;33m<=\u001b[0m\u001b[1;36m1\u001b[0m\u001b[1;33m\u001b[0m\u001b[1;33m\u001b[0m\u001b[0m\n",
      "\u001b[1;31mAssertionError\u001b[0m: "
     ]
    }
   ],
   "source": [
    "#Check Function\n",
    "\n",
    "assert abs(sample_median(10,[0.1,0.2,0.3,0.2,0.2])-3)<=1\n",
    "assert abs(sample_median(25,[0.2,0.1,0.2,0.3,0.1,0.1])-3)<=1\n"
   ]
  },
  {
   "cell_type": "markdown",
   "metadata": {},
   "source": [
    "### Exercise 3 "
   ]
  },
  {
   "cell_type": "markdown",
   "metadata": {},
   "source": [
    "Write a function <code><font color=\"blue\">expected_cal</font>(P)</code> that finds the expected value of the distribution P."
   ]
  },
  {
   "cell_type": "code",
   "execution_count": 118,
   "metadata": {},
   "outputs": [
    {
     "data": {
      "text/plain": [
       "4.76"
      ]
     },
     "execution_count": 118,
     "metadata": {},
     "output_type": "execute_result"
    }
   ],
   "source": [
    "def expected_cal(P):\n",
    "    e = 0.\n",
    "    i=0\n",
    "    for p in P:\n",
    "        i+=1\n",
    "        e += i*p\n",
    "\n",
    "    return e\n",
    "\n",
    "expected_cal([0.12, 0.04, 0.12, 0.12, 0.2, 0.16, 0.16, 0.08])\n",
    "        "
   ]
  },
  {
   "cell_type": "code",
   "execution_count": 116,
   "metadata": {},
   "outputs": [],
   "source": [
    "#Check function\n",
    "\n",
    "assert expected_cal([0.25,0.25,0.25,0.25])==2.5\n",
    "assert expected_cal([0.3,0.4,0.3])==2"
   ]
  },
  {
   "cell_type": "markdown",
   "metadata": {},
   "source": [
    "### Exercise 4"
   ]
  },
  {
   "cell_type": "markdown",
   "metadata": {},
   "source": [
    "In this exercise, we explore the relationship between the distribution median $m$, the sample median with $n$ samples, and $E[M_n]$,the expected value of $M_n$. \n",
    "\n",
    "Write a function <code><font color=\"blue\">average_sample_median</font>(n,P)</code>, that return the average $M_n$ of 1000 samples of size <code>n</code> sampled from the distribution <code>P</code>.\n",
    "\n",
    "<font color=\"blue\">* **Sample run** *</font>\n",
    "```python\n",
    "print(average_sample_median(10,[0.2,0.1,0.15,0.15,0.2,0.2])) \n",
    "print(average_sample_median(10,[0.3,0.4,0.3]))\n",
    "print(average_sample_median(10,P=[0.99,0.01])\n",
    "```\n",
    "<font color=\"magenta\">* **Expected Output** *</font>\n",
    "```python\n",
    "3.7855\n",
    "2.004\n",
    "1\n",
    "```"
   ]
  },
  {
   "cell_type": "code",
   "execution_count": 94,
   "metadata": {},
   "outputs": [
    {
     "name": "stdout",
     "output_type": "stream",
     "text": [
      "3.8025\n",
      "2.021\n",
      "1.0\n",
      "5.0025\n"
     ]
    }
   ],
   "source": [
    "#def average_sample_median(n,P):\n",
    "#    x = np.random.randint(1,n, size=len(P))\n",
    "#    m=0.\n",
    "#    P2 = list()\n",
    "#    for num in range(1000):\n",
    "#       P2.append(np.median(np.random.choice(x,n, True, P)))\n",
    "    \n",
    "#    return np.average(P2)\n",
    "\n",
    "import random\n",
    "from statistics import median\n",
    "\n",
    "def sample_median(n,P):\n",
    "    # inputs: P is a list representing pmf \n",
    "    # output: a variable of type 'float'\n",
    "    \n",
    "    rms = random.choices(range(1, len(P) + 1), weights = P, k = n)\n",
    "    return median(rms)\n",
    "    \n",
    "def average_sample_median(n,P):\n",
    "    # inputs: P is a list representing pmf \n",
    "    # output: a variable of type 'float'\n",
    "    \n",
    "    M = 1000\n",
    "    sum_median = 0\n",
    "    for i in range(M):\n",
    "        sum_median += sample_median(n, P)\n",
    "    return sum_median / M\n",
    "\n",
    "print(average_sample_median(10,[0.2,0.1,0.15,0.15,0.2,0.2]))\n",
    "print(average_sample_median(10,[0.3,0.4,0.3]))\n",
    "print(average_sample_median(10,P=[0.99,0.01]))\n",
    "print(average_sample_median(100,[0.12, 0.04, 0.12, 0.12, 0.2, 0.16, 0.16, 0.08]))"
   ]
  },
  {
   "cell_type": "code",
   "execution_count": 66,
   "metadata": {},
   "outputs": [
    {
     "ename": "AssertionError",
     "evalue": "",
     "output_type": "error",
     "traceback": [
      "\u001b[1;31m---------------------------------------------------------------------------\u001b[0m",
      "\u001b[1;31mAssertionError\u001b[0m                            Traceback (most recent call last)",
      "\u001b[1;32m<ipython-input-66-eb1265ef9516>\u001b[0m in \u001b[0;36m<module>\u001b[1;34m\u001b[0m\n\u001b[0;32m      1\u001b[0m \u001b[1;31m#Check function\u001b[0m\u001b[1;33m\u001b[0m\u001b[1;33m\u001b[0m\u001b[1;33m\u001b[0m\u001b[0m\n\u001b[1;32m----> 2\u001b[1;33m \u001b[1;32massert\u001b[0m\u001b[1;33m(\u001b[0m\u001b[1;33m(\u001b[0m\u001b[0maverage_sample_median\u001b[0m\u001b[1;33m(\u001b[0m\u001b[1;36m20\u001b[0m\u001b[1;33m,\u001b[0m\u001b[1;33m[\u001b[0m\u001b[1;36m0.4\u001b[0m\u001b[1;33m,\u001b[0m\u001b[1;36m0.6\u001b[0m\u001b[1;33m]\u001b[0m\u001b[1;33m)\u001b[0m\u001b[1;33m-\u001b[0m\u001b[0mmedian_cal\u001b[0m\u001b[1;33m(\u001b[0m\u001b[1;33m[\u001b[0m\u001b[1;36m0.4\u001b[0m\u001b[1;33m,\u001b[0m\u001b[1;36m0.6\u001b[0m\u001b[1;33m]\u001b[0m\u001b[1;33m)\u001b[0m\u001b[1;33m)\u001b[0m\u001b[1;33m<=\u001b[0m\u001b[1;36m1e-3\u001b[0m\u001b[1;33m)\u001b[0m\u001b[1;33m\u001b[0m\u001b[1;33m\u001b[0m\u001b[0m\n\u001b[0m\u001b[0;32m      3\u001b[0m \u001b[1;32massert\u001b[0m\u001b[1;33m(\u001b[0m\u001b[1;33m(\u001b[0m\u001b[0maverage_sample_median\u001b[0m\u001b[1;33m(\u001b[0m\u001b[1;36m200\u001b[0m\u001b[1;33m,\u001b[0m\u001b[1;33m[\u001b[0m\u001b[1;36m0.1\u001b[0m\u001b[1;33m,\u001b[0m\u001b[1;36m0.2\u001b[0m\u001b[1;33m,\u001b[0m\u001b[1;36m0.3\u001b[0m\u001b[1;33m,\u001b[0m\u001b[1;36m0.1\u001b[0m\u001b[1;33m,\u001b[0m\u001b[1;36m0.1\u001b[0m\u001b[1;33m,\u001b[0m\u001b[1;36m0.2\u001b[0m\u001b[1;33m]\u001b[0m\u001b[1;33m)\u001b[0m\u001b[1;33m-\u001b[0m\u001b[0mmedian_cal\u001b[0m\u001b[1;33m(\u001b[0m\u001b[1;33m[\u001b[0m\u001b[1;36m0.1\u001b[0m\u001b[1;33m,\u001b[0m\u001b[1;36m0.2\u001b[0m\u001b[1;33m,\u001b[0m\u001b[1;36m0.3\u001b[0m\u001b[1;33m,\u001b[0m\u001b[1;36m0.1\u001b[0m\u001b[1;33m,\u001b[0m\u001b[1;36m0.1\u001b[0m\u001b[1;33m,\u001b[0m\u001b[1;36m0.2\u001b[0m\u001b[1;33m]\u001b[0m\u001b[1;33m)\u001b[0m\u001b[1;33m)\u001b[0m\u001b[1;33m<=\u001b[0m\u001b[1;36m1\u001b[0m\u001b[1;33m)\u001b[0m\u001b[1;33m\u001b[0m\u001b[1;33m\u001b[0m\u001b[0m\n",
      "\u001b[1;31mAssertionError\u001b[0m: "
     ]
    }
   ],
   "source": [
    "#Check function\n",
    "assert((average_sample_median(20,[0.4,0.6])-median_cal([0.4,0.6]))<=1e-3)\n",
    "assert((average_sample_median(200,[0.1,0.2,0.3,0.1,0.1,0.2])-median_cal([0.1,0.2,0.3,0.1,0.1,0.2]))<=1)"
   ]
  },
  {
   "cell_type": "code",
   "execution_count": null,
   "metadata": {
    "collapsed": true
   },
   "outputs": [],
   "source": []
  }
 ],
 "metadata": {
  "kernelspec": {
   "display_name": "Python 3",
   "language": "python",
   "name": "python3"
  },
  "language_info": {
   "codemirror_mode": {
    "name": "ipython",
    "version": 3
   },
   "file_extension": ".py",
   "mimetype": "text/x-python",
   "name": "python",
   "nbconvert_exporter": "python",
   "pygments_lexer": "ipython3",
   "version": "3.7.3"
  },
  "toc": {
   "base_numbering": 1,
   "nav_menu": {},
   "number_sections": true,
   "sideBar": true,
   "skip_h1_title": false,
   "title_cell": "Table of Contents",
   "title_sidebar": "Contents",
   "toc_cell": false,
   "toc_position": {},
   "toc_section_display": true,
   "toc_window_display": false
  },
  "varInspector": {
   "cols": {
    "lenName": 16,
    "lenType": 16,
    "lenVar": 40
   },
   "kernels_config": {
    "python": {
     "delete_cmd_postfix": "",
     "delete_cmd_prefix": "del ",
     "library": "var_list.py",
     "varRefreshCmd": "print(var_dic_list())"
    },
    "r": {
     "delete_cmd_postfix": ") ",
     "delete_cmd_prefix": "rm(",
     "library": "var_list.r",
     "varRefreshCmd": "cat(var_dic_list()) "
    }
   },
   "types_to_exclude": [
    "module",
    "function",
    "builtin_function_or_method",
    "instance",
    "_Feature"
   ],
   "window_display": false
  }
 },
 "nbformat": 4,
 "nbformat_minor": 2
}
